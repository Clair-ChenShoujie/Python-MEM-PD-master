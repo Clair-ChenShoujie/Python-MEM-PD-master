{
 "cells": [
  {
   "cell_type": "markdown",
   "metadata": {},
   "source": [
    "世界地图"
   ]
  },
  {
   "cell_type": "code",
   "execution_count": 6,
   "metadata": {},
   "outputs": [
    {
     "data": {
      "text/plain": [
       "0"
      ]
     },
     "execution_count": 6,
     "metadata": {},
     "output_type": "execute_result"
    }
   ],
   "source": [
    "from pyecharts import options as opts\n",
    "import pandas as pd\n",
    "from pyecharts.charts import Map\n",
    "import os\n",
    "\n",
    "# 基础数据加载\n",
    "data = pd.read_csv('近年来碳排量总计.csv')\n",
    "A = data['Country or region'].to_list()\n",
    "B = data['Score'].to_list()\n",
    "\n",
    "# 准备图表数据\n",
    "data_pairs = list(zip(A, B))\n",
    "\n",
    "# 创建地图对象\n",
    "c = (\n",
    "    Map()\n",
    "    .add(\"世界地图\", data_pairs, \"world\", is_map_symbol_show=True)  # 关闭地图标记点显示\n",
    "    .set_series_opts(label_opts=opts.LabelOpts(is_show=False))\n",
    "    .set_global_opts(\n",
    "        title_opts=opts.TitleOpts(title=\"世界地图示例\"),\n",
    "        visualmap_opts=opts.VisualMapOpts(max_=5, min_=0,\n",
    "                                          range_color=['#F6CEF5', '#F7BE81', '#F78181']),\n",
    "    )\n",
    "    .render(\"render.html\")  # 修改为直接渲染到文件\n",
    ")\n",
    "\n",
    "# 打开生成的HTML文件\n",
    "os.system(\"render.html\")\n"
   ]
  },
  {
   "cell_type": "markdown",
   "metadata": {},
   "source": [
    "美国地图"
   ]
  },
  {
   "cell_type": "code",
   "execution_count": 4,
   "metadata": {},
   "outputs": [
    {
     "data": {
      "text/plain": [
       "0"
      ]
     },
     "execution_count": 4,
     "metadata": {},
     "output_type": "execute_result"
    }
   ],
   "source": [
    "from pyecharts import options as opts\n",
    "from pyecharts.charts import Map\n",
    "import pandas as pd\n",
    "import os\n",
    "\n",
    "# 加载CSV文件\n",
    "data = pd.read_csv('美国数据.csv')\n",
    "cities = data['City'].tolist()\n",
    "values = data['Value'].tolist()\n",
    "\n",
    "# 准备图表数据\n",
    "data_pairs = list(zip(cities, values))\n",
    "\n",
    "# 创建地图对象\n",
    "c = (\n",
    "    Map(init_opts=opts.InitOpts(width=\"1000px\", height=\"600px\"))  # 设置地图尺寸\n",
    "    .add(\"美国各州数据\", data_pairs, \"美国\",is_map_symbol_show=False)\n",
    "    .set_series_opts(label_opts=opts.LabelOpts(is_show=False))\n",
    "    .set_global_opts(\n",
    "        title_opts=opts.TitleOpts(title=\"美国地图示例\"),\n",
    "        visualmap_opts=opts.VisualMapOpts(max_=max(values),min_=0,range_color=['#F6CEF5', '#F7BE81', '#F78181'])\n",
    "    )\n",
    "    .render(\"USA_map.html\")  # 渲染为HTML文件\n",
    ")\n",
    "\n",
    "# 打开生成的HTML文件\n",
    "os.system(\"USA_map.html\")\n"
   ]
  },
  {
   "cell_type": "code",
   "execution_count": 13,
   "metadata": {},
   "outputs": [
    {
     "name": "stdout",
     "output_type": "stream",
     "text": [
      "{\n",
      "  \"OBJECTID\": 1,\n",
      "  \"COUNTY_NAME\": \"Alameda\",\n",
      "  \"COUNTY_ABBREV\": \"ALA\",\n",
      "  \"COUNTY_NUM\": 1,\n",
      "  \"COUNTY_CODE\": \"01\",\n",
      "  \"COUNTY_FIPS\": \"001\",\n",
      "  \"ISLAND\": null,\n",
      "  \"GlobalID\": \"{E6F92268-D2DD-4CFB-8B79-5B4B2F07C559}\",\n",
      "  \"SHAPE_Length\": 2.538264016007919,\n",
      "  \"SHAPE_Area\": 0.21741079204686214\n",
      "}\n"
     ]
    }
   ],
   "source": [
    "import json\n",
    "\n",
    "# 加载GeoJSON文件\n",
    "with open('California_County_Boundaries.geojson', 'r', encoding='utf-8') as f:\n",
    "    geo_json_data = json.load(f)\n",
    "\n",
    "# 输出第一个feature的属性以了解结构\n",
    "print(json.dumps(geo_json_data['features'][0]['properties'], indent=2))\n"
   ]
  },
  {
   "cell_type": "code",
   "execution_count": 1,
   "metadata": {},
   "outputs": [
    {
     "data": {
      "text/plain": [
       "0"
      ]
     },
     "execution_count": 1,
     "metadata": {},
     "output_type": "execute_result"
    }
   ],
   "source": [
    "import folium\n",
    "import pandas as pd\n",
    "import json\n",
    "import os\n",
    "\n",
    "# 读取数据\n",
    "data = pd.read_csv('加州数据.csv')\n",
    "areas = set(data['Area'].tolist())  # 将区域名称放入一个集合中，用于快速查找\n",
    "\n",
    "# 加载GeoJSON文件\n",
    "with open('California_County_Boundaries.geojson', 'r', encoding='utf-8') as f:\n",
    "    geo_json_data = json.load(f)\n",
    "\n",
    "# 创建加州地图\n",
    "m = folium.Map(location=[36.7783, -119.4179], zoom_start=6)\n",
    "\n",
    "# 定义样式函数\n",
    "def style_function(feature):\n",
    "    if feature['properties']['COUNTY_NAME'] in areas:\n",
    "        # 如果区域在CSV数据中，设置填充颜色为透明，以便Choropleth图层显示颜色\n",
    "        return {'fillColor': '#ffffff00', 'color': 'black', 'weight': 1}\n",
    "    else:\n",
    "        # 如果区域不在CSV数据中，设置填充颜色为灰色\n",
    "        return {'fillColor': 'CACACA', 'color': 'CACACA', 'weight': 1}\n",
    "\n",
    "# 添加GeoJSON图层，为所有区域着色\n",
    "folium.GeoJson(\n",
    "    geo_json_data,\n",
    "    style_function=style_function\n",
    ").add_to(m)\n",
    "\n",
    "# 添加Choropleth图层，为CSV数据中的区域着色\n",
    "folium.Choropleth(\n",
    "    geo_data=geo_json_data,\n",
    "    name='choropleth',\n",
    "    data=data,\n",
    "    columns=['Area', 'Value'],\n",
    "    key_on='feature.properties.COUNTY_NAME',\n",
    "    fill_color='YlGn',\n",
    "    fill_opacity=0.7,\n",
    "    line_opacity=0.5,\n",
    "    legend_name='Value'\n",
    ").add_to(m)\n",
    "\n",
    "# 保存和显示地图\n",
    "m.save(\"california_map.html\")\n",
    "os.system(\"california_map.html\")\n"
   ]
  },
  {
   "cell_type": "code",
   "execution_count": 5,
   "metadata": {},
   "outputs": [
    {
     "data": {
      "text/plain": [
       "0"
      ]
     },
     "execution_count": 5,
     "metadata": {},
     "output_type": "execute_result"
    }
   ],
   "source": [
    "from pyecharts import options as opts\n",
    "from pyecharts.charts import Map\n",
    "from pyecharts.faker import Collector\n",
    "import pandas as pd\n",
    "import os\n",
    "\n",
    "\n",
    "# 准备数据\n",
    "data = pd.read_csv('加州数据.csv')\n",
    "A = data['Area'].to_list()\n",
    "B = data['Value'].to_list()\n",
    "data_pairs = list(zip(A, B))\n",
    "\n",
    "# 创建地图\n",
    "map = Map()\n",
    "map.add(\"加州地区\", data_pairs, \"California\", is_map_symbol_show=False)\n",
    "map.set_series_opts(label_opts=opts.LabelOpts(is_show=False))\n",
    "map.set_global_opts(\n",
    "    title_opts=opts.TitleOpts(title=\"加州地区地图\"),\n",
    "    visualmap_opts=opts.VisualMapOpts(max_=20, is_piecewise=True,range_color=['#F6CEF5', '#F7BE81', '#F78181'])\n",
    ")\n",
    "\n",
    "# 渲染地图到 HTML 文件\n",
    "map.render(\"california_map.html\")\n",
    "os.system(\"california_map.html\")\n",
    "\n"
   ]
  },
  {
   "cell_type": "markdown",
   "metadata": {},
   "source": [
    "贪吃蛇代码"
   ]
  },
  {
   "cell_type": "code",
   "execution_count": 1,
   "metadata": {},
   "outputs": [
    {
     "ename": "Terminator",
     "evalue": "",
     "output_type": "error",
     "traceback": [
      "\u001b[1;31m---------------------------------------------------------------------------\u001b[0m",
      "\u001b[1;31mTerminator\u001b[0m                                Traceback (most recent call last)",
      "Cell \u001b[1;32mIn[1], line 87\u001b[0m\n\u001b[0;32m     85\u001b[0m \u001b[39m# 游戏主循环\u001b[39;00m\n\u001b[0;32m     86\u001b[0m \u001b[39mwhile\u001b[39;00m \u001b[39mTrue\u001b[39;00m:\n\u001b[1;32m---> 87\u001b[0m     wn\u001b[39m.\u001b[39;49mupdate()\n\u001b[0;32m     89\u001b[0m     \u001b[39m# 检查碰撞边界\u001b[39;00m\n\u001b[0;32m     90\u001b[0m     \u001b[39mif\u001b[39;00m head\u001b[39m.\u001b[39mxcor()\u001b[39m>\u001b[39m\u001b[39m290\u001b[39m \u001b[39mor\u001b[39;00m head\u001b[39m.\u001b[39mxcor()\u001b[39m<\u001b[39m\u001b[39m-\u001b[39m\u001b[39m290\u001b[39m \u001b[39mor\u001b[39;00m head\u001b[39m.\u001b[39mycor()\u001b[39m>\u001b[39m\u001b[39m290\u001b[39m \u001b[39mor\u001b[39;00m head\u001b[39m.\u001b[39mycor()\u001b[39m<\u001b[39m\u001b[39m-\u001b[39m\u001b[39m290\u001b[39m:\n",
      "File \u001b[1;32mf:\\py\\Lib\\turtle.py:1304\u001b[0m, in \u001b[0;36mTurtleScreen.update\u001b[1;34m(self)\u001b[0m\n\u001b[0;32m   1302\u001b[0m \u001b[39mself\u001b[39m\u001b[39m.\u001b[39m_tracing \u001b[39m=\u001b[39m \u001b[39mTrue\u001b[39;00m\n\u001b[0;32m   1303\u001b[0m \u001b[39mfor\u001b[39;00m t \u001b[39min\u001b[39;00m \u001b[39mself\u001b[39m\u001b[39m.\u001b[39mturtles():\n\u001b[1;32m-> 1304\u001b[0m     t\u001b[39m.\u001b[39;49m_update_data()\n\u001b[0;32m   1305\u001b[0m     t\u001b[39m.\u001b[39m_drawturtle()\n\u001b[0;32m   1306\u001b[0m \u001b[39mself\u001b[39m\u001b[39m.\u001b[39m_tracing \u001b[39m=\u001b[39m tracing\n",
      "File \u001b[1;32mf:\\py\\Lib\\turtle.py:2647\u001b[0m, in \u001b[0;36mRawTurtle._update_data\u001b[1;34m(self)\u001b[0m\n\u001b[0;32m   2646\u001b[0m \u001b[39mdef\u001b[39;00m \u001b[39m_update_data\u001b[39m(\u001b[39mself\u001b[39m):\n\u001b[1;32m-> 2647\u001b[0m     \u001b[39mself\u001b[39;49m\u001b[39m.\u001b[39;49mscreen\u001b[39m.\u001b[39;49m_incrementudc()\n\u001b[0;32m   2648\u001b[0m     \u001b[39mif\u001b[39;00m \u001b[39mself\u001b[39m\u001b[39m.\u001b[39mscreen\u001b[39m.\u001b[39m_updatecounter \u001b[39m!=\u001b[39m \u001b[39m0\u001b[39m:\n\u001b[0;32m   2649\u001b[0m         \u001b[39mreturn\u001b[39;00m\n",
      "File \u001b[1;32mf:\\py\\Lib\\turtle.py:1293\u001b[0m, in \u001b[0;36mTurtleScreen._incrementudc\u001b[1;34m(self)\u001b[0m\n\u001b[0;32m   1291\u001b[0m \u001b[39mif\u001b[39;00m \u001b[39mnot\u001b[39;00m TurtleScreen\u001b[39m.\u001b[39m_RUNNING:\n\u001b[0;32m   1292\u001b[0m     TurtleScreen\u001b[39m.\u001b[39m_RUNNING \u001b[39m=\u001b[39m \u001b[39mTrue\u001b[39;00m\n\u001b[1;32m-> 1293\u001b[0m     \u001b[39mraise\u001b[39;00m Terminator\n\u001b[0;32m   1294\u001b[0m \u001b[39mif\u001b[39;00m \u001b[39mself\u001b[39m\u001b[39m.\u001b[39m_tracing \u001b[39m>\u001b[39m \u001b[39m0\u001b[39m:\n\u001b[0;32m   1295\u001b[0m     \u001b[39mself\u001b[39m\u001b[39m.\u001b[39m_updatecounter \u001b[39m+\u001b[39m\u001b[39m=\u001b[39m \u001b[39m1\u001b[39m\n",
      "\u001b[1;31mTerminator\u001b[0m: "
     ]
    }
   ],
   "source": [
    "import turtle\n",
    "import time\n",
    "import random\n",
    "\n",
    "delay = 0.1\n",
    "\n",
    "# 分数\n",
    "score = 0\n",
    "high_score = 0\n",
    "\n",
    "# 设置屏幕\n",
    "wn = turtle.Screen()\n",
    "wn.title(\"贪吃蛇游戏\")\n",
    "wn.bgcolor(\"black\")\n",
    "wn.setup(width=600, height=600)\n",
    "wn.tracer(0)  # 关闭屏幕更新\n",
    "\n",
    "# 创建蛇头\n",
    "head = turtle.Turtle()\n",
    "head.speed(0)\n",
    "head.shape(\"square\")\n",
    "head.color(\"white\")\n",
    "head.penup()\n",
    "head.goto(0, 0)\n",
    "head.direction = \"stop\"\n",
    "\n",
    "# 创建食物\n",
    "food = turtle.Turtle()\n",
    "food.speed(0)\n",
    "food.shape(\"circle\")\n",
    "food.color(\"red\")\n",
    "food.penup()\n",
    "food.goto(0, 100)\n",
    "\n",
    "segments = []\n",
    "\n",
    "# 分数板\n",
    "score_board = turtle.Turtle()\n",
    "score_board.speed(0)\n",
    "score_board.shape(\"square\")\n",
    "score_board.color(\"white\")\n",
    "score_board.penup()\n",
    "score_board.hideturtle()\n",
    "score_board.goto(0, 260)\n",
    "score_board.write(\"得分: 0  最高分: 0\", align=\"center\", font=(\"Courier\", 24, \"normal\"))\n",
    "\n",
    "# 函数定义\n",
    "def go_up():\n",
    "    if head.direction != \"down\":\n",
    "        head.direction = \"up\"\n",
    "\n",
    "def go_down():\n",
    "    if head.direction != \"up\":\n",
    "        head.direction = \"down\"\n",
    "\n",
    "def go_left():\n",
    "    if head.direction != \"right\":\n",
    "        head.direction = \"left\"\n",
    "\n",
    "def go_right():\n",
    "    if head.direction != \"left\":\n",
    "        head.direction = \"right\"\n",
    "\n",
    "def move():\n",
    "    if head.direction == \"up\":\n",
    "        y = head.ycor()\n",
    "        head.sety(y + 20)\n",
    "    if head.direction == \"down\":\n",
    "        y = head.ycor()\n",
    "        head.sety(y - 20)\n",
    "    if head.direction == \"left\":\n",
    "        x = head.xcor()\n",
    "        head.setx(x - 20)\n",
    "    if head.direction == \"right\":\n",
    "        x = head.xcor()\n",
    "        head.setx(x + 20)\n",
    "\n",
    "# 键盘绑定\n",
    "wn.listen()\n",
    "wn.onkey(go_up, \"w\")\n",
    "wn.onkey(go_down, \"s\")\n",
    "wn.onkey(go_left, \"a\")\n",
    "wn.onkey(go_right, \"d\")\n",
    "\n",
    "# 游戏主循环\n",
    "while True:\n",
    "    wn.update()\n",
    "    \n",
    "    # 检查碰撞边界\n",
    "    if head.xcor()>290 or head.xcor()<-290 or head.ycor()>290 or head.ycor()<-290:\n",
    "        time.sleep(1)\n",
    "        head.goto(0,0)\n",
    "        head.direction = \"stop\"\n",
    "\n",
    "        # 隐藏段\n",
    "        for segment in segments:\n",
    "            segment.goto(1000, 1000)  # 将分段移出屏幕\n",
    "        segments.clear()\n",
    "\n",
    "        # 重置分数\n",
    "        score = 0\n",
    "        score_board.clear()\n",
    "        score_board.write(\"得分: {}  最高分: {}\".format(score, high_score), align=\"center\", font=(\"Courier\", 24, \"normal\"))\n",
    "\n",
    "    # 检查蛇头与食物的碰撞\n",
    "    if head.distance(food) < 20:\n",
    "        # 移动食物到随机位置\n",
    "        x = random.randint(-290, 290)\n",
    "        y = random.randint(-290, 290)\n",
    "        food.goto(x, y)\n",
    "\n",
    "        # 添加蛇的身体段\n",
    "        new_segment = turtle.Turtle()\n",
    "        new_segment.speed(0)\n",
    "        new_segment.shape(\"square\")\n",
    "        new_segment.color(\"grey\")\n",
    "        new_segment.penup()\n",
    "        segments.append(new_segment)\n",
    "\n",
    "        # 增加分数\n",
    "        score += 10\n",
    "        if score > high_score:\n",
    "            high_score = score\n",
    "        score_board.clear()\n",
    "        score_board.write(\"得分: {}  最高分: {}\".format(score, high_score), align=\"center\", font=(\"Courier\", 24, \"normal\"))\n",
    "\n",
    "    # 移动身体段\n",
    "    for index in range(len(segments)-1, 0, -1):\n",
    "        x = segments[index-1].xcor()\n",
    "        y = segments[index-1].ycor()\n",
    "        segments[index].goto(x, y)\n",
    "\n",
    "    if len(segments) > 0:\n",
    "        x = head.xcor()\n",
    "        y = head.ycor()\n",
    "        segments[0].goto(x, y)\n",
    "\n",
    "    move()\n",
    "\n",
    "    # 检查蛇头碰撞身体\n",
    "    for segment in segments:\n",
    "        if segment.distance(head) < 20:\n",
    "            time.sleep(1)\n",
    "            head.goto(0,0)\n",
    "            head.direction = \"stop\"\n",
    "            \n",
    "            for segment in segments:\n",
    "                segment.goto(1000, 1000)\n",
    "            segments.clear()\n",
    "\n",
    "            score = 0\n",
    "            score_board.clear()\n",
    "            score_board.write(\"得分: {}  最高分: {}\".format(score, high_score), align=\"center\", font=(\"Courier\", 24, \"normal\"))\n",
    "\n",
    "    time.sleep(delay)\n",
    "\n",
    "wn.mainloop()\n"
   ]
  }
 ],
 "metadata": {
  "kernelspec": {
   "display_name": "Python 3",
   "language": "python",
   "name": "python3"
  },
  "language_info": {
   "codemirror_mode": {
    "name": "ipython",
    "version": 3
   },
   "file_extension": ".py",
   "mimetype": "text/x-python",
   "name": "python",
   "nbconvert_exporter": "python",
   "pygments_lexer": "ipython3",
   "version": "3.11.3"
  },
  "orig_nbformat": 4
 },
 "nbformat": 4,
 "nbformat_minor": 2
}
