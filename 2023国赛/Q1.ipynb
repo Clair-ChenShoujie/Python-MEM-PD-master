{
 "cells": [
  {
   "cell_type": "code",
   "execution_count": 1,
   "metadata": {},
   "outputs": [],
   "source": [
    "import numpy as np\n",
    "\n",
    "alpha = 1.5\n",
    "theta = 120\n",
    "half_theta = theta/2\n",
    "alpha = np.radians(alpha)\n",
    "half_theta = np.radians(half_theta)\n"
   ]
  },
  {
   "cell_type": "code",
   "execution_count": 2,
   "metadata": {},
   "outputs": [
    {
     "name": "stdout",
     "output_type": "stream",
     "text": [
      "[90.94873725534954, 85.71155294151215, 80.47436862767476, 75.23718431383739, 70.0, 64.76281568616261, 59.52563137232522, 54.28844705848784, 49.05126274465045]\n",
      "[315.7051069533372, 297.52557105398506, 279.34603515463294, 261.1664992552808, 242.98696335592868, 224.80742745657656, 206.62789155722442, 188.44835565787227, 170.26881975852015]\n",
      "[0.3664974192845065, 0.3277888710825778, 0.28404210251529316, 0.2342049973089878, 0.1769105747988674, 0.11034967899967774, 0.032076461252516175, -0.061298727186029245, -0.17461318099018608]\n"
     ]
    }
   ],
   "source": [
    "\n",
    "d = 200\n",
    "det_D = d * np.tan(alpha)\n",
    "D = [70 + 4 * det_D - i * det_D for i in range(9)]\n",
    "print(D)\n",
    "\n",
    "W = []\n",
    "eta = []\n",
    "for i in range(0, 9):\n",
    "    W.append(np.cos(alpha)*D[i]*np.sin(half_theta)*(1/(np.sin(np.pi/2+alpha-half_theta))+1/(np.sin(np.pi/2-alpha-half_theta))))\n",
    "    eta.append(1-d/W[i])\n",
    "\n",
    "print(W)\n",
    "print(eta)"
   ]
  }
 ],
 "metadata": {
  "kernelspec": {
   "display_name": "Python 3",
   "language": "python",
   "name": "python3"
  },
  "language_info": {
   "codemirror_mode": {
    "name": "ipython",
    "version": 3
   },
   "file_extension": ".py",
   "mimetype": "text/x-python",
   "name": "python",
   "nbconvert_exporter": "python",
   "pygments_lexer": "ipython3",
   "version": "3.11.3"
  },
  "orig_nbformat": 4
 },
 "nbformat": 4,
 "nbformat_minor": 2
}
