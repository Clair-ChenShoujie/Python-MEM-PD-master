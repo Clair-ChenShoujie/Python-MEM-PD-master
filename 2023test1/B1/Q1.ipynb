{
 "cells": [
  {
   "cell_type": "code",
   "execution_count": 26,
   "metadata": {},
   "outputs": [],
   "source": [
    "import pandas as pd\n",
    "data1 = pd.read_excel('attachment1.xlsx')\n",
    "data1.loc[:, 'Date Y/M/D'] = pd.to_datetime(data1['Date Y/M/D'])\n",
    "df = data1.set_index('Date Y/M/D').groupby(['Delivering city','Receiving city'])"
   ]
  },
  {
   "cell_type": "markdown",
   "metadata": {},
   "source": [
    "使用 'D' 参数将频率设置为每日\n",
    "并使用 `ffill()` 来向前填充缺失的值"
   ]
  },
  {
   "cell_type": "code",
   "execution_count": null,
   "metadata": {},
   "outputs": [],
   "source": [
    "df = df.resample('D').ffill()"
   ]
  },
  {
   "cell_type": "code",
   "execution_count": 25,
   "metadata": {},
   "outputs": [
    {
     "name": "stdout",
     "output_type": "stream",
     "text": [
      "O O\n"
     ]
    }
   ],
   "source": [
    "import numpy as np\n",
    "data2 = np.array(data1.iloc[:,1:3])\n",
    "d1 = data2[(0,1)]\n",
    "d2 = data2[(0,1)]\n",
    "print(d1,d2)"
   ]
  },
  {
   "cell_type": "code",
   "execution_count": null,
   "metadata": {},
   "outputs": [],
   "source": [
    "data3 = pd.DataFrame(data2,columns=['1','2','3','4'])"
   ]
  }
 ],
 "metadata": {
  "kernelspec": {
   "display_name": "Python 3",
   "language": "python",
   "name": "python3"
  },
  "language_info": {
   "codemirror_mode": {
    "name": "ipython",
    "version": 3
   },
   "file_extension": ".py",
   "mimetype": "text/x-python",
   "name": "python",
   "nbconvert_exporter": "python",
   "pygments_lexer": "ipython3",
   "version": "3.11.3"
  },
  "orig_nbformat": 4
 },
 "nbformat": 4,
 "nbformat_minor": 2
}
