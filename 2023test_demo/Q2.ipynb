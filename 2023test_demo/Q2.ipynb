{
 "cells": [
  {
   "cell_type": "code",
   "execution_count": 3,
   "metadata": {},
   "outputs": [
    {
     "name": "stdout",
     "output_type": "stream",
     "text": [
      "importing Jupyter notebook from Q1.ipynb\n"
     ]
    }
   ],
   "source": [
    "import math\n",
    "import random\n",
    "import import_ipynb\n",
    "import pandas as pd\n",
    "import matplotlib.pyplot as plt\n",
    "from Q1 import red_ks,yel_ks,blu_ks\n",
    "import numpy as np"
   ]
  },
  {
   "cell_type": "markdown",
   "metadata": {},
   "source": [
    "---\n",
    "输入X/X0,Y/Y0,Z/Z0，计算LAB"
   ]
  },
  {
   "cell_type": "code",
   "execution_count": 4,
   "metadata": {},
   "outputs": [],
   "source": [
    "def calculate_lab(XYZ_divided):\n",
    "    X_ratio, Y_ratio, Z_ratio = XYZ_divided\n",
    "    L_star = 116 * np.cbrt(Y_ratio) - 16\n",
    "    a_star = 500 * (np.cbrt(X_ratio) - np.cbrt(Y_ratio))\n",
    "    b_star = 200 * (np.cbrt(Y_ratio) - np.cbrt(Z_ratio))\n",
    "    return np.array([L_star,a_star,b_star])"
   ]
  },
  {
   "cell_type": "markdown",
   "metadata": {},
   "source": [
    "随机一组浓度，输出浓度和R"
   ]
  },
  {
   "cell_type": "code",
   "execution_count": 11,
   "metadata": {},
   "outputs": [],
   "source": [
    "def ks(base_ks=None):\n",
    "    # 配方的ks,1*16波长\n",
    "    ks0 = [0.039492, 0.025906, 0.017964, 0.015092, 0.011439, 0.009515, 0.007961, 0.006947, 0.006284, 0.005889, 0.005238, 0.004948, 0.004626, 0.004247, 0.004100, 0.003617]\n",
    "    arr = np.arange(16)\n",
    "    if base_ks is None:\n",
    "        red_des = round(np.random.uniform(0, 0.05), 4)\n",
    "        yel_des = round(np.random.uniform(0, 0.05), 4)\n",
    "        blu_des = round(np.random.uniform(0, 0.05), 4)\n",
    "    # if base_ks is None:\n",
    "    #     red_des = 0.0451\n",
    "    #     yel_des = 0.0104\n",
    "    #     blu_des = 0.0002\n",
    "    else:\n",
    "        red_des, yel_des, blu_des = base_ks\n",
    "        red_des += round(np.random.uniform(-0.01, 0.01), 4)*0.5\n",
    "        yel_des += round(np.random.uniform(-0.01, 0.01), 4)*0.5\n",
    "        blu_des += round(np.random.uniform(-0.01, 0.01), 4)*0.5\n",
    "        \n",
    "        # 确保数据在有效范围内\n",
    "        red_des = round(max(min(red_des, 0.05), 0),4)\n",
    "        yel_des = round(max(min(yel_des, 0.02), 0),4)\n",
    "        blu_des = round(max(min(blu_des, 0.02), 0),4)\n",
    "    \n",
    "    # 应该是每个列直接相加而非横向连接\n",
    "    npks = np.sum([ks0, np.multiply(red_des,red_ks(arr, red_des)),np.multiply(yel_des,yel_ks(arr, yel_des)),np.multiply(blu_des,blu_ks(arr, blu_des))] ,axis=0)\n",
    "    R = 1 + npks - np.sqrt(npks**2 + 2*npks)\n",
    "    return R,red_des,yel_des,blu_des"
   ]
  },
  {
   "cell_type": "code",
   "execution_count": 12,
   "metadata": {},
   "outputs": [
    {
     "data": {
      "text/plain": [
       "(array([0.39962963, 0.39997097, 0.38829542, 0.40606752, 0.44056284,\n",
       "        0.48437217, 0.53458499, 0.57844369, 0.60325975, 0.71015361,\n",
       "        0.81039529, 0.84625505, 0.85938898, 0.87594688, 0.8959097 ,\n",
       "        0.90516682]),\n",
       " 0.0196,\n",
       " 0.0467,\n",
       " 0.0055)"
      ]
     },
     "execution_count": 12,
     "metadata": {},
     "output_type": "execute_result"
    }
   ],
   "source": [
    "ks()"
   ]
  },
  {
   "cell_type": "markdown",
   "metadata": {},
   "source": [
    "目标样的lab"
   ]
  },
  {
   "cell_type": "code",
   "execution_count": 50,
   "metadata": {},
   "outputs": [],
   "source": [
    "# def aim_LAB():\n",
    "#     df_R = pd.read_excel(\"附件3.xlsx\")\n",
    "#     np_R[10,] = np.array(df_R)[1:11,1:17]\n",
    "#     print(np_R)"
   ]
  },
  {
   "cell_type": "code",
   "execution_count": 51,
   "metadata": {},
   "outputs": [],
   "source": [
    "# aim_LAB()"
   ]
  },
  {
   "cell_type": "code",
   "execution_count": 52,
   "metadata": {},
   "outputs": [],
   "source": [
    "def bound_value(value, lower_bound, upper_bound):\n",
    "    if value < lower_bound:\n",
    "        return lower_bound + (lower_bound - value)\n",
    "    elif value > upper_bound:\n",
    "        return upper_bound - (value - upper_bound)\n",
    "    else:\n",
    "        return value"
   ]
  },
  {
   "cell_type": "code",
   "execution_count": 2,
   "metadata": {},
   "outputs": [],
   "source": [
    "# ks()"
   ]
  },
  {
   "cell_type": "markdown",
   "metadata": {},
   "source": [
    "---\n",
    "输入16*1的R,计算配方的LAB，return目标样和标准样的LAB"
   ]
  },
  {
   "cell_type": "code",
   "execution_count": 54,
   "metadata": {},
   "outputs": [],
   "source": [
    "# 先ks=ks()然后用LAB(ks),return LAB\n",
    "def LAB(R):\n",
    "    dfXYZ = pd.read_excel(\"附件1.xlsx\")\n",
    "    npXYZ = np.array(dfXYZ)\n",
    "    Sxyz = npXYZ[2:18, 1:4]  # 16*3\n",
    "    R = np.array([0.2310211 , 0.29080425, 0.31958438, 0.33157188, 0.33775017,\n",
    "        0.33881281, 0.33541254, 0.35746793, 0.34957339, 0.52567033,\n",
    "        0.58836073, 0.59606713, 0.61436572, 0.68442125, 0.74778616,\n",
    "        0.80120968])\n",
    "    R = R.reshape(-1, 1)  # reshape R to 16*1 for broadcasting\n",
    "    result = np.multiply(R, Sxyz) * 20 * 0.1  # Broadcasting happens here\n",
    "    lab_xyz = np.sum(result, axis=0)  # 标准样的xyz，一维长度3\n",
    "\n",
    "    # 标准样判断，Xj/X0, Yj/Y0, Zj/Z0\n",
    "    x0 = 94.83\n",
    "    y0 = 100.00\n",
    "    z0 = 107.38\n",
    "    y_divided = lab_xyz / [x0, y0, z0]\n",
    "    \n",
    "    # 读取目标样和标准样数据\n",
    "    lab = calculate_lab(y_divided)\n",
    "    return lab\n",
    "    "
   ]
  },
  {
   "cell_type": "code",
   "execution_count": 55,
   "metadata": {},
   "outputs": [],
   "source": [
    "# R,red_des,yel_des,blu_des = ks()\n",
    "# lab = LAB(R)\n",
    "# print(R)\n",
    "# print(lab)"
   ]
  },
  {
   "cell_type": "markdown",
   "metadata": {},
   "source": [
    ">接下来到了重头戏，求色差"
   ]
  },
  {
   "cell_type": "code",
   "execution_count": 56,
   "metadata": {},
   "outputs": [],
   "source": [
    "def aim(i, ks_values):\n",
    "    R,red_des,yel_des,blu_des = ks_values\n",
    "    lab_LAB=LAB(R)\n",
    "    #print(R,lab_LAB)\n",
    "    aim_df = pd.read_excel(\"目标样LAB.xlsx\")\n",
    "    aim_LAB = [np.array(aim_df)[i-1] for i in range(10)]\n",
    "    #print(aim_LAB) #索引i，然后是10个目标样的LAB长度3\n",
    "    # 计算色差\n",
    "    color_differences = []\n",
    "    \n",
    "    diff = aim_LAB[i-1] - lab_LAB\n",
    "    delta_L, delta_a, delta_b = diff\n",
    "    delta_E = np.sqrt(delta_L**2 + delta_a**2 + delta_b**2)\n",
    "    return red_des ,yel_des, blu_des,delta_E\n",
    "\n",
    "def simulated_annealing(i, initial_temp=3000, final_temp=0.1, cooling_rate=0.99, max_iter_per_temp=200):\n",
    "    \"\"\"Simulated annealing algorithm for minimizing color difference.\n",
    "    \n",
    "    Args:\n",
    "        i (int): The index of the aim.\n",
    "        initial_temp (float, optional): The initial temperature for the simulated annealing. Default is 5000.\n",
    "        final_temp (float, optional): The final temperature for the simulated annealing. Default is 0.1.\n",
    "        cooling_rate (float, optional): The cooling rate for the simulated annealing. Default is 0.99.\n",
    "        max_iter_per_temp (int, optional): The maximum number of iterations per temperature. Default is 100.\n",
    "\n",
    "    Returns:\n",
    "        tuple: The best solution and the corresponding color difference.\n",
    "    \"\"\"\n",
    "    \n",
    "    # Initialize the current solution and best solution\n",
    "    current_solution = ks()\n",
    "    best_solution = current_solution\n",
    "    current_cost = aim(i, current_solution)[3]\n",
    "    best_cost = current_cost\n",
    "    \n",
    "\n",
    "    # Main loop\n",
    "    temp = initial_temp\n",
    "    while temp > final_temp:\n",
    "        for _ in range(max_iter_per_temp):\n",
    "            # Generate a new solution randomly\n",
    "            new_solution = ks(current_solution[1:])\n",
    "            new_cost = aim(i, new_solution)[3]\n",
    "\n",
    "            # If the new solution is better, update the current solution and best solution\n",
    "            if new_cost < current_cost or random.random() < math.exp((current_cost - new_cost) / temp):\n",
    "                current_solution = new_solution\n",
    "                current_cost = new_cost\n",
    "                if new_cost < best_cost:\n",
    "                    best_solution = new_solution\n",
    "                    best_cost = new_cost\n",
    "                    print(best_solution)\n",
    "                    print(best_cost)\n",
    "\n",
    "        # Cool down\n",
    "        temp *= cooling_rate\n",
    "\n",
    "    return best_solution, best_cost"
   ]
  },
  {
   "cell_type": "code",
   "execution_count": 57,
   "metadata": {},
   "outputs": [
    {
     "ename": "KeyboardInterrupt",
     "evalue": "",
     "output_type": "error",
     "traceback": [
      "\u001b[1;31m---------------------------------------------------------------------------\u001b[0m",
      "\u001b[1;31mKeyboardInterrupt\u001b[0m                         Traceback (most recent call last)",
      "Cell \u001b[1;32mIn[57], line 2\u001b[0m\n\u001b[0;32m      1\u001b[0m \u001b[39m# Test the function\u001b[39;00m\n\u001b[1;32m----> 2\u001b[0m \u001b[39mprint\u001b[39m(simulated_annealing(\u001b[39m7\u001b[39;49m))\n",
      "Cell \u001b[1;32mIn[56], line 43\u001b[0m, in \u001b[0;36msimulated_annealing\u001b[1;34m(i, initial_temp, final_temp, cooling_rate, max_iter_per_temp)\u001b[0m\n\u001b[0;32m     40\u001b[0m \u001b[39mfor\u001b[39;00m _ \u001b[39min\u001b[39;00m \u001b[39mrange\u001b[39m(max_iter_per_temp):\n\u001b[0;32m     41\u001b[0m     \u001b[39m# Generate a new solution randomly\u001b[39;00m\n\u001b[0;32m     42\u001b[0m     new_solution \u001b[39m=\u001b[39m ks(current_solution[\u001b[39m1\u001b[39m:])\n\u001b[1;32m---> 43\u001b[0m     new_cost \u001b[39m=\u001b[39m aim(i, new_solution)[\u001b[39m3\u001b[39m]\n\u001b[0;32m     45\u001b[0m     \u001b[39m# If the new solution is better, update the current solution and best solution\u001b[39;00m\n\u001b[0;32m     46\u001b[0m     \u001b[39mif\u001b[39;00m new_cost \u001b[39m<\u001b[39m current_cost \u001b[39mor\u001b[39;00m random\u001b[39m.\u001b[39mrandom() \u001b[39m<\u001b[39m math\u001b[39m.\u001b[39mexp((current_cost \u001b[39m-\u001b[39m new_cost) \u001b[39m/\u001b[39m temp):\n",
      "Cell \u001b[1;32mIn[56], line 3\u001b[0m, in \u001b[0;36maim\u001b[1;34m(i, ks_values)\u001b[0m\n\u001b[0;32m      1\u001b[0m \u001b[39mdef\u001b[39;00m \u001b[39maim\u001b[39m(i, ks_values):\n\u001b[0;32m      2\u001b[0m     R,red_des,yel_des,blu_des \u001b[39m=\u001b[39m ks_values\n\u001b[1;32m----> 3\u001b[0m     lab_LAB\u001b[39m=\u001b[39mLAB(R)\n\u001b[0;32m      4\u001b[0m     \u001b[39m#print(R,lab_LAB)\u001b[39;00m\n\u001b[0;32m      5\u001b[0m     aim_df \u001b[39m=\u001b[39m pd\u001b[39m.\u001b[39mread_excel(\u001b[39m\"\u001b[39m\u001b[39m目标样LAB.xlsx\u001b[39m\u001b[39m\"\u001b[39m)\n",
      "Cell \u001b[1;32mIn[54], line 3\u001b[0m, in \u001b[0;36mLAB\u001b[1;34m(R)\u001b[0m\n\u001b[0;32m      2\u001b[0m \u001b[39mdef\u001b[39;00m \u001b[39mLAB\u001b[39m(R):\n\u001b[1;32m----> 3\u001b[0m     dfXYZ \u001b[39m=\u001b[39m pd\u001b[39m.\u001b[39;49mread_excel(\u001b[39m\"\u001b[39;49m\u001b[39m附件1.xlsx\u001b[39;49m\u001b[39m\"\u001b[39;49m)\n\u001b[0;32m      4\u001b[0m     npXYZ \u001b[39m=\u001b[39m np\u001b[39m.\u001b[39marray(dfXYZ)\n\u001b[0;32m      5\u001b[0m     Sxyz \u001b[39m=\u001b[39m npXYZ[\u001b[39m2\u001b[39m:\u001b[39m18\u001b[39m, \u001b[39m1\u001b[39m:\u001b[39m4\u001b[39m]  \u001b[39m# 16*3\u001b[39;00m\n",
      "File \u001b[1;32mf:\\py\\Lib\\site-packages\\pandas\\io\\excel\\_base.py:478\u001b[0m, in \u001b[0;36mread_excel\u001b[1;34m(io, sheet_name, header, names, index_col, usecols, dtype, engine, converters, true_values, false_values, skiprows, nrows, na_values, keep_default_na, na_filter, verbose, parse_dates, date_parser, date_format, thousands, decimal, comment, skipfooter, storage_options, dtype_backend)\u001b[0m\n\u001b[0;32m    476\u001b[0m \u001b[39mif\u001b[39;00m \u001b[39mnot\u001b[39;00m \u001b[39misinstance\u001b[39m(io, ExcelFile):\n\u001b[0;32m    477\u001b[0m     should_close \u001b[39m=\u001b[39m \u001b[39mTrue\u001b[39;00m\n\u001b[1;32m--> 478\u001b[0m     io \u001b[39m=\u001b[39m ExcelFile(io, storage_options\u001b[39m=\u001b[39;49mstorage_options, engine\u001b[39m=\u001b[39;49mengine)\n\u001b[0;32m    479\u001b[0m \u001b[39melif\u001b[39;00m engine \u001b[39mand\u001b[39;00m engine \u001b[39m!=\u001b[39m io\u001b[39m.\u001b[39mengine:\n\u001b[0;32m    480\u001b[0m     \u001b[39mraise\u001b[39;00m \u001b[39mValueError\u001b[39;00m(\n\u001b[0;32m    481\u001b[0m         \u001b[39m\"\u001b[39m\u001b[39mEngine should not be specified when passing \u001b[39m\u001b[39m\"\u001b[39m\n\u001b[0;32m    482\u001b[0m         \u001b[39m\"\u001b[39m\u001b[39man ExcelFile - ExcelFile already has the engine set\u001b[39m\u001b[39m\"\u001b[39m\n\u001b[0;32m    483\u001b[0m     )\n",
      "File \u001b[1;32mf:\\py\\Lib\\site-packages\\pandas\\io\\excel\\_base.py:1513\u001b[0m, in \u001b[0;36mExcelFile.__init__\u001b[1;34m(self, path_or_buffer, engine, storage_options)\u001b[0m\n\u001b[0;32m   1510\u001b[0m \u001b[39mself\u001b[39m\u001b[39m.\u001b[39mengine \u001b[39m=\u001b[39m engine\n\u001b[0;32m   1511\u001b[0m \u001b[39mself\u001b[39m\u001b[39m.\u001b[39mstorage_options \u001b[39m=\u001b[39m storage_options\n\u001b[1;32m-> 1513\u001b[0m \u001b[39mself\u001b[39m\u001b[39m.\u001b[39m_reader \u001b[39m=\u001b[39m \u001b[39mself\u001b[39;49m\u001b[39m.\u001b[39;49m_engines[engine](\u001b[39mself\u001b[39;49m\u001b[39m.\u001b[39;49m_io, storage_options\u001b[39m=\u001b[39;49mstorage_options)\n",
      "File \u001b[1;32mf:\\py\\Lib\\site-packages\\pandas\\io\\excel\\_openpyxl.py:549\u001b[0m, in \u001b[0;36mOpenpyxlReader.__init__\u001b[1;34m(self, filepath_or_buffer, storage_options)\u001b[0m\n\u001b[0;32m    539\u001b[0m \u001b[39m\u001b[39m\u001b[39m\"\"\"\u001b[39;00m\n\u001b[0;32m    540\u001b[0m \u001b[39mReader using openpyxl engine.\u001b[39;00m\n\u001b[0;32m    541\u001b[0m \n\u001b[1;32m   (...)\u001b[0m\n\u001b[0;32m    546\u001b[0m \u001b[39m{storage_options}\u001b[39;00m\n\u001b[0;32m    547\u001b[0m \u001b[39m\"\"\"\u001b[39;00m\n\u001b[0;32m    548\u001b[0m import_optional_dependency(\u001b[39m\"\u001b[39m\u001b[39mopenpyxl\u001b[39m\u001b[39m\"\u001b[39m)\n\u001b[1;32m--> 549\u001b[0m \u001b[39msuper\u001b[39;49m()\u001b[39m.\u001b[39;49m\u001b[39m__init__\u001b[39;49m(filepath_or_buffer, storage_options\u001b[39m=\u001b[39;49mstorage_options)\n",
      "File \u001b[1;32mf:\\py\\Lib\\site-packages\\pandas\\io\\excel\\_base.py:540\u001b[0m, in \u001b[0;36mBaseExcelReader.__init__\u001b[1;34m(self, filepath_or_buffer, storage_options)\u001b[0m\n\u001b[0;32m    538\u001b[0m \u001b[39mself\u001b[39m\u001b[39m.\u001b[39mhandles\u001b[39m.\u001b[39mhandle\u001b[39m.\u001b[39mseek(\u001b[39m0\u001b[39m)\n\u001b[0;32m    539\u001b[0m \u001b[39mtry\u001b[39;00m:\n\u001b[1;32m--> 540\u001b[0m     \u001b[39mself\u001b[39m\u001b[39m.\u001b[39mbook \u001b[39m=\u001b[39m \u001b[39mself\u001b[39;49m\u001b[39m.\u001b[39;49mload_workbook(\u001b[39mself\u001b[39;49m\u001b[39m.\u001b[39;49mhandles\u001b[39m.\u001b[39;49mhandle)\n\u001b[0;32m    541\u001b[0m \u001b[39mexcept\u001b[39;00m \u001b[39mException\u001b[39;00m:\n\u001b[0;32m    542\u001b[0m     \u001b[39mself\u001b[39m\u001b[39m.\u001b[39mclose()\n",
      "File \u001b[1;32mf:\\py\\Lib\\site-packages\\pandas\\io\\excel\\_openpyxl.py:560\u001b[0m, in \u001b[0;36mOpenpyxlReader.load_workbook\u001b[1;34m(self, filepath_or_buffer)\u001b[0m\n\u001b[0;32m    557\u001b[0m \u001b[39mdef\u001b[39;00m \u001b[39mload_workbook\u001b[39m(\u001b[39mself\u001b[39m, filepath_or_buffer: FilePath \u001b[39m|\u001b[39m ReadBuffer[\u001b[39mbytes\u001b[39m]):\n\u001b[0;32m    558\u001b[0m     \u001b[39mfrom\u001b[39;00m \u001b[39mopenpyxl\u001b[39;00m \u001b[39mimport\u001b[39;00m load_workbook\n\u001b[1;32m--> 560\u001b[0m     \u001b[39mreturn\u001b[39;00m load_workbook(\n\u001b[0;32m    561\u001b[0m         filepath_or_buffer, read_only\u001b[39m=\u001b[39;49m\u001b[39mTrue\u001b[39;49;00m, data_only\u001b[39m=\u001b[39;49m\u001b[39mTrue\u001b[39;49;00m, keep_links\u001b[39m=\u001b[39;49m\u001b[39mFalse\u001b[39;49;00m\n\u001b[0;32m    562\u001b[0m     )\n",
      "File \u001b[1;32mf:\\py\\Lib\\site-packages\\openpyxl\\reader\\excel.py:346\u001b[0m, in \u001b[0;36mload_workbook\u001b[1;34m(filename, read_only, keep_vba, data_only, keep_links, rich_text)\u001b[0m\n\u001b[0;32m    316\u001b[0m \u001b[39m\u001b[39m\u001b[39m\"\"\"Open the given filename and return the workbook\u001b[39;00m\n\u001b[0;32m    317\u001b[0m \n\u001b[0;32m    318\u001b[0m \u001b[39m:param filename: the path to open or a file-like object\u001b[39;00m\n\u001b[1;32m   (...)\u001b[0m\n\u001b[0;32m    342\u001b[0m \n\u001b[0;32m    343\u001b[0m \u001b[39m\"\"\"\u001b[39;00m\n\u001b[0;32m    344\u001b[0m reader \u001b[39m=\u001b[39m ExcelReader(filename, read_only, keep_vba,\n\u001b[0;32m    345\u001b[0m                      data_only, keep_links, rich_text)\n\u001b[1;32m--> 346\u001b[0m reader\u001b[39m.\u001b[39;49mread()\n\u001b[0;32m    347\u001b[0m \u001b[39mreturn\u001b[39;00m reader\u001b[39m.\u001b[39mwb\n",
      "File \u001b[1;32mf:\\py\\Lib\\site-packages\\openpyxl\\reader\\excel.py:301\u001b[0m, in \u001b[0;36mExcelReader.read\u001b[1;34m(self)\u001b[0m\n\u001b[0;32m    299\u001b[0m apply_stylesheet(\u001b[39mself\u001b[39m\u001b[39m.\u001b[39marchive, \u001b[39mself\u001b[39m\u001b[39m.\u001b[39mwb)\n\u001b[0;32m    300\u001b[0m action \u001b[39m=\u001b[39m \u001b[39m\"\u001b[39m\u001b[39mread worksheets\u001b[39m\u001b[39m\"\u001b[39m\n\u001b[1;32m--> 301\u001b[0m \u001b[39mself\u001b[39;49m\u001b[39m.\u001b[39;49mread_worksheets()\n\u001b[0;32m    302\u001b[0m action \u001b[39m=\u001b[39m \u001b[39m\"\u001b[39m\u001b[39massign names\u001b[39m\u001b[39m\"\u001b[39m\n\u001b[0;32m    303\u001b[0m \u001b[39mself\u001b[39m\u001b[39m.\u001b[39mparser\u001b[39m.\u001b[39massign_names()\n",
      "File \u001b[1;32mf:\\py\\Lib\\site-packages\\openpyxl\\reader\\excel.py:214\u001b[0m, in \u001b[0;36mExcelReader.read_worksheets\u001b[1;34m(self)\u001b[0m\n\u001b[0;32m    212\u001b[0m \u001b[39mdef\u001b[39;00m \u001b[39mread_worksheets\u001b[39m(\u001b[39mself\u001b[39m):\n\u001b[0;32m    213\u001b[0m     comment_warning \u001b[39m=\u001b[39m \u001b[39m\"\"\"\u001b[39m\u001b[39mCell \u001b[39m\u001b[39m'\u001b[39m\u001b[39m{0}\u001b[39;00m\u001b[39m'\u001b[39m\u001b[39m:\u001b[39m\u001b[39m{1}\u001b[39;00m\u001b[39m is part of a merged range but has a comment which will be removed because merged cells cannot contain any data.\u001b[39m\u001b[39m\"\"\"\u001b[39m\n\u001b[1;32m--> 214\u001b[0m     \u001b[39mfor\u001b[39;00m sheet, rel \u001b[39min\u001b[39;00m \u001b[39mself\u001b[39m\u001b[39m.\u001b[39mparser\u001b[39m.\u001b[39mfind_sheets():\n\u001b[0;32m    215\u001b[0m         \u001b[39mif\u001b[39;00m rel\u001b[39m.\u001b[39mtarget \u001b[39mnot\u001b[39;00m \u001b[39min\u001b[39;00m \u001b[39mself\u001b[39m\u001b[39m.\u001b[39mvalid_files:\n\u001b[0;32m    216\u001b[0m             \u001b[39mcontinue\u001b[39;00m\n",
      "File \u001b[1;32mf:\\py\\Lib\\site-packages\\openpyxl\\reader\\workbook.py:86\u001b[0m, in \u001b[0;36mWorkbookParser.find_sheets\u001b[1;34m(self)\u001b[0m\n\u001b[0;32m     84\u001b[0m     warn(msg)\n\u001b[0;32m     85\u001b[0m     \u001b[39mcontinue\u001b[39;00m\n\u001b[1;32m---> 86\u001b[0m \u001b[39myield\u001b[39;00m sheet, \u001b[39mself\u001b[39;49m\u001b[39m.\u001b[39;49mrels[sheet\u001b[39m.\u001b[39mid]\n",
      "File \u001b[1;32mf:\\py\\Lib\\site-packages\\openpyxl\\reader\\workbook.py:39\u001b[0m, in \u001b[0;36mWorkbookParser.rels\u001b[1;34m(self)\u001b[0m\n\u001b[0;32m     36\u001b[0m \u001b[39m@property\u001b[39m\n\u001b[0;32m     37\u001b[0m \u001b[39mdef\u001b[39;00m \u001b[39mrels\u001b[39m(\u001b[39mself\u001b[39m):\n\u001b[0;32m     38\u001b[0m     \u001b[39mif\u001b[39;00m \u001b[39mself\u001b[39m\u001b[39m.\u001b[39m_rels \u001b[39mis\u001b[39;00m \u001b[39mNone\u001b[39;00m:\n\u001b[1;32m---> 39\u001b[0m         \u001b[39mself\u001b[39m\u001b[39m.\u001b[39m_rels \u001b[39m=\u001b[39m get_dependents(\u001b[39mself\u001b[39;49m\u001b[39m.\u001b[39;49marchive, get_rels_path(\u001b[39mself\u001b[39;49m\u001b[39m.\u001b[39;49mworkbook_part_name))\n\u001b[0;32m     40\u001b[0m     \u001b[39mreturn\u001b[39;00m \u001b[39mself\u001b[39m\u001b[39m.\u001b[39m_rels\n",
      "File \u001b[1;32mf:\\py\\Lib\\site-packages\\openpyxl\\packaging\\relationship.py:125\u001b[0m, in \u001b[0;36mget_dependents\u001b[1;34m(archive, filename)\u001b[0m\n\u001b[0;32m    119\u001b[0m \u001b[39mdef\u001b[39;00m \u001b[39mget_dependents\u001b[39m(archive, filename):\n\u001b[0;32m    120\u001b[0m \u001b[39m    \u001b[39m\u001b[39m\"\"\"\u001b[39;00m\n\u001b[0;32m    121\u001b[0m \u001b[39m    Normalise dependency file paths to absolute ones\u001b[39;00m\n\u001b[0;32m    122\u001b[0m \n\u001b[0;32m    123\u001b[0m \u001b[39m    Relative paths are relative to parent object\u001b[39;00m\n\u001b[0;32m    124\u001b[0m \u001b[39m    \"\"\"\u001b[39;00m\n\u001b[1;32m--> 125\u001b[0m     src \u001b[39m=\u001b[39m archive\u001b[39m.\u001b[39;49mread(filename)\n\u001b[0;32m    126\u001b[0m     node \u001b[39m=\u001b[39m fromstring(src)\n\u001b[0;32m    127\u001b[0m     \u001b[39mtry\u001b[39;00m:\n",
      "File \u001b[1;32mf:\\py\\Lib\\zipfile.py:1510\u001b[0m, in \u001b[0;36mZipFile.read\u001b[1;34m(self, name, pwd)\u001b[0m\n\u001b[0;32m   1508\u001b[0m \u001b[39m\u001b[39m\u001b[39m\"\"\"Return file bytes for name.\"\"\"\u001b[39;00m\n\u001b[0;32m   1509\u001b[0m \u001b[39mwith\u001b[39;00m \u001b[39mself\u001b[39m\u001b[39m.\u001b[39mopen(name, \u001b[39m\"\u001b[39m\u001b[39mr\u001b[39m\u001b[39m\"\u001b[39m, pwd) \u001b[39mas\u001b[39;00m fp:\n\u001b[1;32m-> 1510\u001b[0m     \u001b[39mreturn\u001b[39;00m fp\u001b[39m.\u001b[39;49mread()\n",
      "File \u001b[1;32mf:\\py\\Lib\\zipfile.py:939\u001b[0m, in \u001b[0;36mZipExtFile.read\u001b[1;34m(self, n)\u001b[0m\n\u001b[0;32m    937\u001b[0m     \u001b[39mself\u001b[39m\u001b[39m.\u001b[39m_offset \u001b[39m=\u001b[39m \u001b[39m0\u001b[39m\n\u001b[0;32m    938\u001b[0m     \u001b[39mwhile\u001b[39;00m \u001b[39mnot\u001b[39;00m \u001b[39mself\u001b[39m\u001b[39m.\u001b[39m_eof:\n\u001b[1;32m--> 939\u001b[0m         buf \u001b[39m+\u001b[39m\u001b[39m=\u001b[39m \u001b[39mself\u001b[39;49m\u001b[39m.\u001b[39;49m_read1(\u001b[39mself\u001b[39;49m\u001b[39m.\u001b[39;49mMAX_N)\n\u001b[0;32m    940\u001b[0m     \u001b[39mreturn\u001b[39;00m buf\n\u001b[0;32m    942\u001b[0m end \u001b[39m=\u001b[39m n \u001b[39m+\u001b[39m \u001b[39mself\u001b[39m\u001b[39m.\u001b[39m_offset\n",
      "File \u001b[1;32mf:\\py\\Lib\\zipfile.py:1021\u001b[0m, in \u001b[0;36mZipExtFile._read1\u001b[1;34m(self, n)\u001b[0m\n\u001b[0;32m   1019\u001b[0m     data \u001b[39m=\u001b[39m \u001b[39mself\u001b[39m\u001b[39m.\u001b[39m_decompressor\u001b[39m.\u001b[39munconsumed_tail\n\u001b[0;32m   1020\u001b[0m     \u001b[39mif\u001b[39;00m n \u001b[39m>\u001b[39m \u001b[39mlen\u001b[39m(data):\n\u001b[1;32m-> 1021\u001b[0m         data \u001b[39m+\u001b[39m\u001b[39m=\u001b[39m \u001b[39mself\u001b[39;49m\u001b[39m.\u001b[39;49m_read2(n \u001b[39m-\u001b[39;49m \u001b[39mlen\u001b[39;49m(data))\n\u001b[0;32m   1022\u001b[0m \u001b[39melse\u001b[39;00m:\n\u001b[0;32m   1023\u001b[0m     data \u001b[39m=\u001b[39m \u001b[39mself\u001b[39m\u001b[39m.\u001b[39m_read2(n)\n",
      "File \u001b[1;32mf:\\py\\Lib\\zipfile.py:1053\u001b[0m, in \u001b[0;36mZipExtFile._read2\u001b[1;34m(self, n)\u001b[0m\n\u001b[0;32m   1050\u001b[0m n \u001b[39m=\u001b[39m \u001b[39mmax\u001b[39m(n, \u001b[39mself\u001b[39m\u001b[39m.\u001b[39mMIN_READ_SIZE)\n\u001b[0;32m   1051\u001b[0m n \u001b[39m=\u001b[39m \u001b[39mmin\u001b[39m(n, \u001b[39mself\u001b[39m\u001b[39m.\u001b[39m_compress_left)\n\u001b[1;32m-> 1053\u001b[0m data \u001b[39m=\u001b[39m \u001b[39mself\u001b[39;49m\u001b[39m.\u001b[39;49m_fileobj\u001b[39m.\u001b[39;49mread(n)\n\u001b[0;32m   1054\u001b[0m \u001b[39mself\u001b[39m\u001b[39m.\u001b[39m_compress_left \u001b[39m-\u001b[39m\u001b[39m=\u001b[39m \u001b[39mlen\u001b[39m(data)\n\u001b[0;32m   1055\u001b[0m \u001b[39mif\u001b[39;00m \u001b[39mnot\u001b[39;00m data:\n",
      "File \u001b[1;32mf:\\py\\Lib\\zipfile.py:773\u001b[0m, in \u001b[0;36m_SharedFile.read\u001b[1;34m(self, n)\u001b[0m\n\u001b[0;32m    769\u001b[0m     \u001b[39mraise\u001b[39;00m \u001b[39mValueError\u001b[39;00m(\u001b[39m\"\u001b[39m\u001b[39mCan\u001b[39m\u001b[39m'\u001b[39m\u001b[39mt read from the ZIP file while there \u001b[39m\u001b[39m\"\u001b[39m\n\u001b[0;32m    770\u001b[0m             \u001b[39m\"\u001b[39m\u001b[39mis an open writing handle on it. \u001b[39m\u001b[39m\"\u001b[39m\n\u001b[0;32m    771\u001b[0m             \u001b[39m\"\u001b[39m\u001b[39mClose the writing handle before trying to read.\u001b[39m\u001b[39m\"\u001b[39m)\n\u001b[0;32m    772\u001b[0m \u001b[39mself\u001b[39m\u001b[39m.\u001b[39m_file\u001b[39m.\u001b[39mseek(\u001b[39mself\u001b[39m\u001b[39m.\u001b[39m_pos)\n\u001b[1;32m--> 773\u001b[0m data \u001b[39m=\u001b[39m \u001b[39mself\u001b[39m\u001b[39m.\u001b[39m_file\u001b[39m.\u001b[39mread(n)\n\u001b[0;32m    774\u001b[0m \u001b[39mself\u001b[39m\u001b[39m.\u001b[39m_pos \u001b[39m=\u001b[39m \u001b[39mself\u001b[39m\u001b[39m.\u001b[39m_file\u001b[39m.\u001b[39mtell()\n\u001b[0;32m    775\u001b[0m \u001b[39mreturn\u001b[39;00m data\n",
      "\u001b[1;31mKeyboardInterrupt\u001b[0m: "
     ]
    }
   ],
   "source": [
    "\n",
    "\n",
    "# Test the function\n",
    "print(simulated_annealing(7))"
   ]
  },
  {
   "cell_type": "code",
   "execution_count": 1,
   "metadata": {},
   "outputs": [
    {
     "name": "stdout",
     "output_type": "stream",
     "text": [
      "8.304775999999999\n"
     ]
    }
   ],
   "source": [
    "# 定义数组\n",
    "array = [\n",
    "    [9.5e-05, 0.000429, 0.00394],\n",
    "    [0.003385, 1.5e-05, 0.000249],\n",
    "    [5e-05, 0.000321, 0.003407],\n",
    "    [0.000602, 1.3e-05, 0.00225],\n",
    "    [0.0002, 0.0013, 0.0104],\n",
    "    [0.0004, 0.0003, 0.0076],\n",
    "    [0.006, 0.0021, 0.0008],\n",
    "    [0.0042, 0.0098, 0.0018],\n",
    "    [0.0025, 0.0006, 0.0008],\n",
    "    [0.0, 0.0004, 0.0023]\n",
    "]\n",
    "\n",
    "# 定义公式\n",
    "def cost(red_des, yel_des, blu_des):\n",
    "    return 2*(60*red_des + 65*yel_des + 63*blu_des)\n",
    "\n",
    "# 计算总和\n",
    "total_cost = sum(cost(red_des, yel_des, blu_des) for red_des, yel_des, blu_des in array)\n",
    "\n",
    "print(total_cost)\n"
   ]
  }
 ],
 "metadata": {
  "kernelspec": {
   "display_name": "Python 3",
   "language": "python",
   "name": "python3"
  },
  "language_info": {
   "codemirror_mode": {
    "name": "ipython",
    "version": 3
   },
   "file_extension": ".py",
   "mimetype": "text/x-python",
   "name": "python",
   "nbconvert_exporter": "python",
   "pygments_lexer": "ipython3",
   "version": "3.11.3"
  },
  "orig_nbformat": 4
 },
 "nbformat": 4,
 "nbformat_minor": 2
}
